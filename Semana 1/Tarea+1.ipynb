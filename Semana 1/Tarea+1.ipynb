{
 "cells": [
  {
   "cell_type": "markdown",
   "metadata": {},
   "source": [
    "##### Se importan las librerias numpy y pyplot"
   ]
  },
  {
   "cell_type": "code",
   "execution_count": 1,
   "metadata": {
    "collapsed": true
   },
   "outputs": [],
   "source": [
    "import numpy\n",
    "import matplotlib.pyplot as pl"
   ]
  },
  {
   "cell_type": "markdown",
   "metadata": {},
   "source": [
    "##### - En la primera linea de código se define la función valPi cuyo único parametro es un numero entero N. \n",
    "##### - En la segunda linea de código se inicializa un contador con un valor de cero.\n",
    "##### - En la tercera y cuarta linea de código se genera un vector de valores aleatorios de tamaño (N, 1) para las coordenadas (x, y) entre [-1 1).\n",
    "##### - En la quinta linea de código se realiza un recorrido con la función for para que recorra los vectores (x, y).\n",
    "##### - En la sexta y septima linea de código se llaman los valores de los vectores (x, y) en la posición i y se analiza si la suma cuadratica entre estos números menos 1 es menor a 0. En caso de que sean menor a 0 el contador aumenta en 1, sino se sigue a la siguiente posición.\n",
    "##### - En la octava linea se devuelve el valor del contador dividido el número total de iteraciones multiplicado por 4 para hayar el valor de pi."
   ]
  },
  {
   "cell_type": "code",
   "execution_count": 26,
   "metadata": {},
   "outputs": [],
   "source": [
    "def valPi(N):\n",
    "    cont = 0\n",
    "    x = numpy.random.uniform(-1, 1, N)\n",
    "    y = numpy.random.uniform(-1, 1, N)\n",
    "    for i in range(N):\n",
    "        if x[i]**2 + y[i]**2 -1 < 0:\n",
    "            cont=cont+1\n",
    "    return (cont/N)*4\n",
    "        "
   ]
  },
  {
   "cell_type": "markdown",
   "metadata": {},
   "source": [
    "##### Se prueba la función valPi con una entrada de 100 000."
   ]
  },
  {
   "cell_type": "code",
   "execution_count": 33,
   "metadata": {
    "scrolled": false
   },
   "outputs": [
    {
     "data": {
      "text/plain": [
       "3.14056"
      ]
     },
     "execution_count": 33,
     "metadata": {},
     "output_type": "execute_result"
    }
   ],
   "source": [
    "valPi(100000)"
   ]
  },
  {
   "cell_type": "markdown",
   "metadata": {},
   "source": [
    "##### Se realiza un procedimiento parecido al de la función valPi con la excepción de que se devuelve el valor total del contador sobre las iteraciones totales para sacar la probabilidad de que los puntos aleatorios esten dentro del círculo."
   ]
  },
  {
   "cell_type": "code",
   "execution_count": 34,
   "metadata": {},
   "outputs": [],
   "source": [
    "def ProbaIn(N):\n",
    "    cont = 0\n",
    "    x = numpy.random.uniform(-1, 1, N)\n",
    "    y = numpy.random.uniform(-1, 1, N)\n",
    "    for i in range(N):\n",
    "        if x[i]**2 + y[i]**2 -1 < 0:\n",
    "            cont=cont+1\n",
    "    return cont/N"
   ]
  },
  {
   "cell_type": "markdown",
   "metadata": {},
   "source": [
    "##### Se prueba la función ProbaIn con una entrada de 100 000."
   ]
  },
  {
   "cell_type": "code",
   "execution_count": 35,
   "metadata": {},
   "outputs": [
    {
     "data": {
      "text/plain": [
       "0.78468"
      ]
     },
     "execution_count": 35,
     "metadata": {},
     "output_type": "execute_result"
    }
   ],
   "source": [
    "ProbaIn(100000)"
   ]
  },
  {
   "cell_type": "code",
   "execution_count": null,
   "metadata": {
    "collapsed": true
   },
   "outputs": [],
   "source": []
  }
 ],
 "metadata": {
  "kernelspec": {
   "display_name": "Python 3",
   "language": "python",
   "name": "python3"
  },
  "language_info": {
   "codemirror_mode": {
    "name": "ipython",
    "version": 3
   },
   "file_extension": ".py",
   "mimetype": "text/x-python",
   "name": "python",
   "nbconvert_exporter": "python",
   "pygments_lexer": "ipython3",
   "version": "3.6.3"
  }
 },
 "nbformat": 4,
 "nbformat_minor": 2
}
