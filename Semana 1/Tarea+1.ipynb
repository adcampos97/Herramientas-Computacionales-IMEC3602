{
 "cells": [
  {
   "cell_type": "markdown",
   "metadata": {},
   "source": [
    "##### Se importan las librerias numpy y pyplot"
   ]
  },
  {
   "cell_type": "code",
   "execution_count": 40,
   "metadata": {
    "collapsed": true
   },
   "outputs": [],
   "source": [
    "import numpy\n",
    "import matplotlib.pyplot as plt"
   ]
  },
  {
   "cell_type": "markdown",
   "metadata": {},
   "source": [
    "##### - En la primera linea de código se define la función valPi cuyo único parametro es un número entero N. \n",
    "##### - En la segunda linea de código se inicializa un contador con un valor de cero.\n",
    "##### - En la tercera y cuarta linea de código se genera un vector de valores aleatorios de tamaño (N, 1) para las coordenadas (x, y) entre [-1 1).\n",
    "##### - En la quinta linea de código se realiza un recorrido con la función for para que recorra los vectores (x, y).\n",
    "##### - En la sexta y septima linea de código se llaman los valores de los vectores (x, y) en la posición i y se analiza si la suma cuadratica entre estos números menos 1 es menor a 0. En caso de que sean menor a 0 el contador aumenta en 1, sino se sigue a la siguiente posición.\n",
    "##### - En la octava linea se devuelve el valor del contador dividido el número total de iteraciones multiplicado por 4 para hayar el valor de pi."
   ]
  },
  {
   "cell_type": "code",
   "execution_count": 41,
   "metadata": {
    "collapsed": true
   },
   "outputs": [],
   "source": [
    "def valPi(N):\n",
    "    cont = 0\n",
    "    x = numpy.random.uniform(-1, 1, N)\n",
    "    y = numpy.random.uniform(-1, 1, N)\n",
    "    for i in range(N):\n",
    "        if x[i]**2 + y[i]**2 -1 < 0:\n",
    "            cont=cont+1\n",
    "    return (cont/N)*4\n",
    "        "
   ]
  },
  {
   "cell_type": "markdown",
   "metadata": {},
   "source": [
    "##### Se prueba la función valPi con una entrada de 100 000."
   ]
  },
  {
   "cell_type": "code",
   "execution_count": 42,
   "metadata": {
    "scrolled": false
   },
   "outputs": [
    {
     "data": {
      "text/plain": [
       "3.1418"
      ]
     },
     "execution_count": 42,
     "metadata": {},
     "output_type": "execute_result"
    }
   ],
   "source": [
    "valPi(100000)"
   ]
  },
  {
   "cell_type": "markdown",
   "metadata": {},
   "source": [
    "##### Se realiza un procedimiento parecido al de la función valPi con la excepción de que se devuelve el valor total del contador sobre las iteraciones totales para sacar la probabilidad de que los puntos aleatorios esten dentro del círculo."
   ]
  },
  {
   "cell_type": "code",
   "execution_count": 157,
   "metadata": {
    "collapsed": true
   },
   "outputs": [],
   "source": [
    "def ProbaIn(N):\n",
    "    cont = 0\n",
    "    x = numpy.random.uniform(-1, 1, N)\n",
    "    y = numpy.random.uniform(-1, 1, N)\n",
    "    for i in range(N):\n",
    "        if x[i]**2 + y[i]**2 -1 < 0:\n",
    "            cont=cont+1\n",
    "    return cont/N"
   ]
  },
  {
   "cell_type": "markdown",
   "metadata": {},
   "source": [
    "##### Se prueba la función ProbaIn con una entrada de 100 000."
   ]
  },
  {
   "cell_type": "code",
   "execution_count": 176,
   "metadata": {},
   "outputs": [
    {
     "data": {
      "text/plain": [
       "0.78624"
      ]
     },
     "execution_count": 176,
     "metadata": {},
     "output_type": "execute_result"
    }
   ],
   "source": [
    "ProbaIn(100000)"
   ]
  },
  {
   "cell_type": "code",
   "execution_count": 206,
   "metadata": {},
   "outputs": [
    {
     "data": {
      "image/png": "[encoded data removed]",
      "text/plain": [
       "<matplotlib.figure.Figure at 0x23a62a97fd0>"
      ]
     },
     "metadata": {},
     "output_type": "display_data"
    }
   ],
   "source": [
    "pi=numpy.pi\n",
    "plt.plot([1,10,100,1000, 10000, 100000, 1000000],\n",
    "         [ProbaIn(1)-(pi/4)\n",
    "          ,ProbaIn(10)-(pi/4)\n",
    "          ,ProbaIn(100)-(pi/4)\n",
    "          ,ProbaIn(1000)-(pi/4)\n",
    "          ,ProbaIn(10000)-(pi/4)\n",
    "          ,ProbaIn(100000)-(pi/4)\n",
    "          ,ProbaIn(1000000)-(pi/4)],'-.')\n",
    "plt.xscale('log')\n",
    "plt.ylabel('P(N)-pi/4')\n",
    "plt.xlabel('N')\n",
    "plt.show()"
   ]
  },
  {
   "cell_type": "code",
   "execution_count": null,
   "metadata": {
    "collapsed": true
   },
   "outputs": [],
   "source": []
  }
 ],
 "metadata": {
  "kernelspec": {
   "display_name": "Python 3",
   "language": "python",
   "name": "python3"
  },
  "language_info": {
   "codemirror_mode": {
    "name": "ipython",
    "version": 3
   },
   "file_extension": ".py",
   "mimetype": "text/x-python",
   "name": "python",
   "nbconvert_exporter": "python",
   "pygments_lexer": "ipython3",
   "version": "3.6.3"
  }
 },
 "nbformat": 4,
 "nbformat_minor": 2
}
