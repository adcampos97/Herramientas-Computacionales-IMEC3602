{
 "cells": [
  {
   "cell_type": "markdown",
   "metadata": {
    "collapsed": true
   },
   "source": [
    "## Taller 1\n",
    "\n",
    "### Andrés David Campos\n",
    "\n",
    "### 201413737\n"
   ]
  },
  {
   "cell_type": "code",
   "execution_count": 1,
   "metadata": {},
   "outputs": [
    {
     "name": "stdout",
     "output_type": "stream",
     "text": [
      "Populating the interactive namespace from numpy and matplotlib\n"
     ]
    }
   ],
   "source": [
    "import os\n",
    "import pandas as pd\n",
    "%pylab inline"
   ]
  },
  {
   "cell_type": "markdown",
   "metadata": {},
   "source": [
    "### Se importan las librerias que seran utilizadas en el desarrollo de este taller"
   ]
  },
  {
   "cell_type": "code",
   "execution_count": 2,
   "metadata": {},
   "outputs": [],
   "source": [
    "def nrelYideam(ciudad):\n",
    "    base_dir = os.path.join( '/home/nbuser/library/Semana 3/data')\n",
    "    output_dir = os.path.join( '.','output')\n",
    "    fuenteIDEAM = 'IDEAM'\n",
    "    serie_csv1 = os.path.join(base_dir,ciudad,fuenteIDEAM+'.csv')\n",
    "    serie_ideam = pd.read_csv(serie_csv1, sep = ';',\n",
    "                encoding='latin-1')\n",
    "    fuenteNREL = 'NREL'\n",
    "    serie_csv2 = os.path.join(base_dir,ciudad,fuenteNREL+'.csv')\n",
    "    serie_NREL = pd.read_csv(serie_csv2, sep = ';',\n",
    "                encoding='latin-1')\n",
    "    \n",
    "    return serie_NREL, serie_ideam"
   ]
  },
  {
   "cell_type": "markdown",
   "metadata": {},
   "source": [
    "### Esta función recoge los datos que se encuentran en la carpeta \"data\"\n",
    "* Parametro: string de la ciudad\n",
    "* Retorna: la serie NREL y la IDEAM de la ciudad"
   ]
  },
  {
   "cell_type": "code",
   "execution_count": 3,
   "metadata": {},
   "outputs": [],
   "source": [
    "def ghi_mensual(serie_horaria):\n",
    "    agnos = sorted(serie_horaria['AÑO'].unique())\n",
    "    ghi_df = pd.DataFrame(columns=[\"AÑO\", \"MES\", \"DIAS\", \"GHImes\"])\n",
    "    \n",
    "    for agno in agnos:\n",
    "        for mes in range(1,13):\n",
    "            nombre_energia = list(serie_horaria)[-1]\n",
    "            \n",
    "            dias = sorted(serie_horaria[(serie_horaria['AÑO'] == agno) &\n",
    "                        (serie_horaria['MES'] == mes)][\"DIA\"].unique())\n",
    "            \n",
    "            ghi_mes = serie_horaria.loc[((serie_horaria[\"AÑO\"] == agno)\n",
    "                            & (serie_horaria[\"MES\"] == mes)),\n",
    "                                        nombre_energia].sum()/1000\n",
    "            \n",
    "            ghi_dict = {\"AÑO\":agno, \"MES\":mes, \"DIAS\":dias[-1],\n",
    "                        \"GHImes\":ghi_mes}\n",
    "            \n",
    "            ghi_df = ghi_df.append(ghi_dict, ignore_index=True)\n",
    "    return ghi_df"
   ]
  },
  {
   "cell_type": "markdown",
   "metadata": {},
   "source": [
    "### Esta función calcula el total de energía mensual a traves de los años\n",
    "* Parametros: serie horaria\n",
    "* Retorna: serie con el total de energía de cada mes"
   ]
  },
  {
   "cell_type": "code",
   "execution_count": 4,
   "metadata": {},
   "outputs": [],
   "source": [
    "def ghi_dia(serie_ghi_mensual):\n",
    "    agnos = sorted(serie_ghi_mensual['AÑO'].unique())\n",
    "    ghi_df = pd.DataFrame(columns=[\"AÑO\", \"MES\", \"GHIdiario\"])\n",
    "    \n",
    "    for agno in agnos:\n",
    "        for mes in range(1,13):\n",
    "            dias = serie_ghi_mensual.loc[((serie_ghi_mensual[\"AÑO\"] == agno)\n",
    "                            & (serie_ghi_mensual[\"MES\"] == mes))\n",
    "                                         ,\"DIAS\"].item()\n",
    "            \n",
    "            ghi_diario = serie_ghi_mensual.loc[(\n",
    "                (serie_ghi_mensual[\"AÑO\"] == agno)\n",
    "                            & (serie_ghi_mensual[\"MES\"] == mes)),\n",
    "                \"GHImes\"].item()/dias\n",
    "            \n",
    "            ghi_dict = {\"AÑO\":agno, \"MES\":mes, \"GHIdiario\":ghi_diario}\n",
    "            \n",
    "            ghi_df = ghi_df.append(ghi_dict, ignore_index=True)\n",
    "    return ghi_df"
   ]
  },
  {
   "cell_type": "markdown",
   "metadata": {},
   "source": [
    "### Esta función calcula el promedio de energía diario de cada mes a traves de los años\n",
    "* Parametros: serie mensual\n",
    "* Retorna: serie con el ppromedio de energía diario de cada mes\n"
   ]
  },
  {
   "cell_type": "code",
   "execution_count": 5,
   "metadata": {},
   "outputs": [],
   "source": [
    "def promDiario(serie_ideam):\n",
    "    ghiMensual=ghi_mensual(serie_ideam)\n",
    "    ghiDiario=ghi_dia(ghiMensual)\n",
    "    datos=sorted(ghiDiario['GHIdiario'])\n",
    "    return datos"
   ]
  },
  {
   "cell_type": "markdown",
   "metadata": {},
   "source": [
    "### Esta función realiza el procedimiento de sacar el promedio de energía diario y ordenarlo de menor a mayor en un arreglo\n",
    "* Parametros: serie (ideam)\n",
    "* Retorna: arreglo con los promedios de energía diarios"
   ]
  },
  {
   "cell_type": "code",
   "execution_count": 6,
   "metadata": {},
   "outputs": [],
   "source": [
    "def promYdesv(serie):\n",
    "    return np.mean(serie), np.std(serie)"
   ]
  },
  {
   "cell_type": "markdown",
   "metadata": {},
   "source": [
    "### Esta función calcula el promedio y la desviación estandar poblacional de una serie\n",
    "* Parametros: serie\n",
    "* Retorna: promedio de la serie, desviación estandar poblacional de la serie\n"
   ]
  },
  {
   "cell_type": "code",
   "execution_count": 87,
   "metadata": {},
   "outputs": [],
   "source": [
    "def MCP(serie_aCorregir, serie_modelo, serie_corta):\n",
    "    mu_y, desv_y = promYdesv(serie_modelo)\n",
    "    mu_x, desv_x= promYdesv(serie_corta)\n",
    "    f = ((mu_y-(desv_y/desv_x)*mu_x)+(desv_y/desv_x)*serie_aCorregir)\n",
    "    f[f<0]=0\n",
    "    return f"
   ]
  },
  {
   "cell_type": "markdown",
   "metadata": {},
   "source": [
    "### Esta función realiza la corrección de una serie con el metodo de Medir-Correlacionar-Predecir (MCP) tomando una serie de referencia\n",
    "* Parametros: serie a corregir, serie de referencia, serie a corregir en el mismo periodo que la serie de referencia\n",
    "* Retorna: serie corregida\n"
   ]
  },
  {
   "cell_type": "code",
   "execution_count": 45,
   "metadata": {},
   "outputs": [],
   "source": [
    "def recortarSerie(serieP, añoInicio, añoFin, mesInicio, mesFin):\n",
    "        if(añoInicio == añoFin) & (mesFin >= mesInicio):\n",
    "            serie = serieP[(serieP['AÑO']==añoInicio) \n",
    "                           & (serieP['MES']>=mesInicio) & (serieP['MES']<=mesFin)]\n",
    "            \n",
    "        if(añoInicio != añoFin):\n",
    "            serie1 = serieP[(serieP['AÑO']==añoInicio) & (serieP['MES']>=mesInicio)]\n",
    "            serie2= serieP[(serieP['AÑO']>añoInicio)&(serieP['AÑO']<añoFin)]\n",
    "            serie3 = serieP[(serieP['AÑO']==añoFin) & (serieP['MES']<=mesFin)]\n",
    "            serie = pd.concat([serie1, serie2, serie3])\n",
    "            \n",
    "        if(añoFin < añoInicio):\n",
    "            \n",
    "            serie = 'El año final no puede ser menor al año inicial'\n",
    "        return serie"
   ]
  },
  {
   "cell_type": "markdown",
   "metadata": {},
   "source": [
    "### Esta función coge una porción de una serie horaria y vuelve esa porción otra serie\n",
    "\n",
    "* Parametros: serie a partir, año inicial, año final, mes inicial, mes final\n",
    "* Retorna: serie partida"
   ]
  },
  {
   "cell_type": "code",
   "execution_count": 9,
   "metadata": {},
   "outputs": [],
   "source": [
    "def percen(serie):\n",
    "    p = 1\n",
    "    promed = np.array(promDiario(serie))\n",
    "    enficc99 = np.percentile(promed, p)\n",
    "    return enficc99"
   ]
  },
  {
   "cell_type": "markdown",
   "metadata": {},
   "source": [
    "### Esta función devuelve el minimo valor que es superado al menos el 99% de los casos\n",
    "* Parametros: serie\n",
    "* Retorna: percentil 1%"
   ]
  },
  {
   "cell_type": "code",
   "execution_count": 98,
   "metadata": {},
   "outputs": [],
   "source": [
    "def MBE(seriePrediccion, serieObservada):\n",
    "    sP = np.array(seriePrediccion['IDEAM'])\n",
    "    sO = np.array(serieObservada['NREL'])\n",
    "    suma = np.sum(sO-sP)\n",
    "    n = np.size(serieObservada)\n",
    "    return suma/n"
   ]
  },
  {
   "cell_type": "markdown",
   "metadata": {},
   "source": [
    "### Esta función calcula el error de sesgo medio entre dos series de una misma longitud\n",
    "* Parametros: serie predicción, serie observación\n",
    "* Retorna: error de sesgo medio"
   ]
  },
  {
   "cell_type": "code",
   "execution_count": 100,
   "metadata": {},
   "outputs": [],
   "source": [
    "def RMSEn(seriePrediccion, serieObservada):\n",
    "    sP = np.array(seriePrediccion['IDEAM'])\n",
    "    sO = np.array(serieObservada['NREL'])\n",
    "    suma = (np.sum(sO-sP))**2\n",
    "    n = np.size(serieObservada)\n",
    "    xObsMax = np.max(sP)\n",
    "    xObsMin = np.min(sO)\n",
    "    return (np.sqrt(suma/n))/(xObsMax-xObsMin)"
   ]
  },
  {
   "cell_type": "markdown",
   "metadata": {},
   "source": [
    "### Esta función calcula el error RMS entre dos series de la misma longitud\n",
    "* Parametros: serie predicción, serie observación\n",
    "* Retorna: error RMS"
   ]
  },
  {
   "cell_type": "code",
   "execution_count": 99,
   "metadata": {},
   "outputs": [],
   "source": [
    "def KSI(seriePrediccion, serieObservada):\n",
    "    return scipy.stats.k2_samps(seriePrediccion['IDEAM'], serieObservada['NREL'])"
   ]
  },
  {
   "cell_type": "markdown",
   "metadata": {},
   "source": [
    "### Esta función calcula el Indice de Kolmogorov-Smagorinski entre dos series de la misma longitud\n",
    "* Parametros: serie predicción, serie observación\n",
    "* Retorna: indice de Kolmogorov-Smagorinski"
   ]
  },
  {
   "cell_type": "code",
   "execution_count": 92,
   "metadata": {},
   "outputs": [],
   "source": [
    "def graficarSerie(serie, serieIdeam, nombreSerie):\n",
    "    ideamDiaria = promDiario(serieIdeam)\n",
    "    data = promDiario(serie)\n",
    "    pylab.xlabel(\"Datos\")\n",
    "    pylab.ylabel(\"Energía/Energía Base IDEAM\")\n",
    "    n = range(len(data))\n",
    "    pylab.plot(n,data/ideamDiaria[0], label=nombreSerie);\n",
    "    pylab.legend();\n",
    "    return pylab.plot\n",
    "# 2010-2011 niña 2009-2010 niño"
   ]
  },
  {
   "cell_type": "markdown",
   "metadata": {},
   "source": [
    "### Esta función grafica la distribución de energía de la serie\n",
    "* Parametros: serie a graficar, serie ideam, nombre de la serie\n",
    "* Retorna: gráfica de la distribución de la energía de la serie"
   ]
  },
  {
   "cell_type": "code",
   "execution_count": 95,
   "metadata": {},
   "outputs": [],
   "source": [
    "def corregirSerie(ciudad, añoInicio, añoFin, mesInicio, mesFin):\n",
    "    nrel, ideam = nrelYideam(ciudad)\n",
    "    nrelCor = recortarSerie(nrel, añoInicio, añoFin, mesInicio, mesFin)['NREL']\n",
    "    ideamCor = recortarSerie(ideam, añoInicio, añoFin, mesInicio, mesFin)['IDEAM']\n",
    "    serieCorr = MCP(nrel['NREL'], ideamCor, nrelCor)\n",
    "    nrel['NREL']=serieCorr\n",
    "    return nrel"
   ]
  },
  {
   "cell_type": "code",
   "execution_count": null,
   "metadata": {},
   "outputs": [],
   "source": [
    "def datosCiudad(ciudad, añoInicio, añoFin, mesInicio, mesFin):\n",
    "    nrel, ideam = nrelYideam(ciudad)\n",
    "    "
   ]
  }
 ],
 "metadata": {
  "kernelspec": {
   "display_name": "Python 3.6",
   "language": "python",
   "name": "python36"
  },
  "language_info": {
   "codemirror_mode": {
    "name": "ipython",
    "version": 3
   },
   "file_extension": ".py",
   "mimetype": "text/x-python",
   "name": "python",
   "nbconvert_exporter": "python",
   "pygments_lexer": "ipython3",
   "version": "3.6.3"
  }
 },
 "nbformat": 4,
 "nbformat_minor": 2
}
